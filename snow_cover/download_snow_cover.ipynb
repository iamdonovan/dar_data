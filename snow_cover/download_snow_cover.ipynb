{
 "cells": [
  {
   "cell_type": "markdown",
   "id": "ccb5330a-576d-4f40-8908-d558961f4fb3",
   "metadata": {},
   "source": [
    "# getting started\n",
    "\n",
    "To succesfully run this notebook, you need:\n",
    "\n",
    "- A NASA Earthdata login (go here: https://urs.earthdata.nasa.gov/ and click **REGISTER** to sign up if you haven't already done so)\n",
    "- A `.netrc` file in your `$HOME` directory that contains your NASA Earthdata credentials. For more detailed instructions on how to set this up, see this guide: https://iamdonovan.github.io/teaching/egm722/practicals/earthaccess.html#the-netrc-file\n",
    "\n",
    "Once you have that (and assuming that you have a conda environment set up based on the `environment.yml` file in this repository), you should be able to search and download snow cover data for a given basin by editing the code below to select the desired basin outline and dataset."
   ]
  },
  {
   "cell_type": "code",
   "execution_count": null,
   "id": "94f1d7f9-169b-40ec-a00b-f72fb5785b62",
   "metadata": {},
   "outputs": [],
   "source": [
    "from pathlib import Path\n",
    "import earthaccess\n",
    "import geopandas as gpd\n",
    "import rasterio as rio\n",
    "import shapely\n",
    "from unidecode import unidecode"
   ]
  },
  {
   "cell_type": "markdown",
   "id": "9666c0ac-61fa-4d3f-bac8-1dc96a26eb5f",
   "metadata": {},
   "source": [
    "First, load the shapefile of basin outlines and show the available basin names:"
   ]
  },
  {
   "cell_type": "code",
   "execution_count": null,
   "id": "94d9a510-3ab4-4492-8bcb-a1dc1d781773",
   "metadata": {},
   "outputs": [],
   "source": [
    "basins = gpd.read_file('../basins.gpkg').set_index('name')\n",
    "list(basins.index) # show the available basin names"
   ]
  },
  {
   "cell_type": "markdown",
   "id": "c56c3466-7105-4edc-add7-b6454c6a95c6",
   "metadata": {},
   "source": [
    "Next, select the basin outline by one of the names above, then prepare a search area based on the basin outline:"
   ]
  },
  {
   "cell_type": "code",
   "execution_count": null,
   "id": "1f58d92a-ca98-408a-a474-05bea2b7344c",
   "metadata": {},
   "outputs": [],
   "source": [
    "# select the basin outline to search using the name (e.g., Copiapó)\n",
    "basin_name = 'Copiapó'\n",
    "basin = basins.loc[basin_name, 'geometry']\n",
    "\n",
    "# eventually, this step won't be needed\n",
    "search_area = shapely.geometry.polygon.orient(basin.minimum_rotated_rectangle, sign=1)\n",
    "\n",
    "basin # show the outline of the basin"
   ]
  },
  {
   "cell_type": "markdown",
   "id": "a6be6c62-837f-421b-b838-025565442b20",
   "metadata": {},
   "source": [
    "Next, log in to `earthaccess` using your `.netrc` credentials:"
   ]
  },
  {
   "cell_type": "code",
   "execution_count": null,
   "id": "40b3c4c0-7a4e-4f6e-b8ae-16836ab541be",
   "metadata": {},
   "outputs": [],
   "source": [
    "earthaccess.login(strategy='netrc')"
   ]
  },
  {
   "cell_type": "markdown",
   "id": "0539b136-c86b-4778-8b2e-f4e9988d04a2",
   "metadata": {},
   "source": [
    "NASA Earthdata have the following daily, \"cloud-free\" snow cover datasets from either MODIS or VIIRS:\n",
    "\n",
    "| Dataset                                                       | Short Name |\n",
    "| ------------------------------------------------------------- | ---------- |\n",
    "| MODIS/Terra CGF Snow Cover Daily L3 Global 500m SIN Grid V061 | MOD10A1F   |\n",
    "| MODIS/Aqua CGF Snow Cover Daily L3 Global 500m SIN Grid V061  | MYD10A1F   |\n",
    "| VIIRS/JPSS1 CGF Snow Cover Daily L3 Global 375m SIN Grid V002 | VJ110A1F   |\n",
    "| VIIRS/NPP CGF Snow Cover Daily L3 Global 375m SIN Grid V002   | VNP10A1F   |\n",
    "\n",
    "To search for a particular dataset, replace **REPLACE** in the cell below with the corresponding short name from the table above:"
   ]
  },
  {
   "cell_type": "code",
   "execution_count": null,
   "id": "a08c4e43-def3-4b87-88ca-37bd585704c9",
   "metadata": {},
   "outputs": [],
   "source": [
    "ds_name = 'REPLACE' # add the dataset short name from above to search for granules that intersect the basin of interest\n",
    "\n",
    "results = earthaccess.search_data(\n",
    "    short_name=ds_name,\n",
    "    polygon=search_area.exterior.coords\n",
    ")"
   ]
  },
  {
   "cell_type": "markdown",
   "id": "16c3bfe5-868a-4939-a51a-4c88284683f8",
   "metadata": {},
   "source": [
    "Finally, run the cell below to download the results for the given basin to a folder of the form `{name}_{dataset}` (e.g., `copiapo_MOD10A1F` for the MODIS/Terra CGF Snow Cover Daily L3 Global 500m SIN Grid V061 (MOD10A1F) granules that cover the Copiapó basin):\n",
    "\n",
    "**NOTE/WARNING**: chances are good that there are a lot of results for any given basin (the datasets have daily resolution, after all), so make sure that you have sufficient disk space, a stable internet connection, and time to let the computer sit and download for a while!"
   ]
  },
  {
   "cell_type": "code",
   "execution_count": null,
   "id": "6d028c9b-3f8e-45ce-90b9-9d522409f13f",
   "metadata": {},
   "outputs": [],
   "source": [
    "data_directory = '.' # replace this path with the base directory you want to download the files to\n",
    "downloaded_files = earthaccess.download(results, Path(data_directory, f\"{unidecode(basin_name)}_{ds_name}\"))"
   ]
  }
 ],
 "metadata": {
  "kernelspec": {
   "display_name": "Python 3 (ipykernel)",
   "language": "python",
   "name": "python3"
  },
  "language_info": {
   "codemirror_mode": {
    "name": "ipython",
    "version": 3
   },
   "file_extension": ".py",
   "mimetype": "text/x-python",
   "name": "python",
   "nbconvert_exporter": "python",
   "pygments_lexer": "ipython3",
   "version": "3.12.4"
  }
 },
 "nbformat": 4,
 "nbformat_minor": 5
}
